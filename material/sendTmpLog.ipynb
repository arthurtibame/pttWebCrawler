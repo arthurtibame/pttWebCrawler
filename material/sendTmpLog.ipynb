{
 "cells": [
  {
   "cell_type": "code",
   "execution_count": 8,
   "metadata": {},
   "outputs": [],
   "source": [
    "#!/usr/bin/env python\n",
    "# coding: utf-8\n",
    "'''\n",
    "To save log messages temporarily, and the topic name \n",
    "'''\n",
    "\n",
    "from kafka import KafkaProducer, KafkaClient\n",
    "import connectDB\n",
    "import json\n",
    "import datetime\n"
   ]
  },
  {
   "cell_type": "code",
   "execution_count": null,
   "metadata": {},
   "outputs": [],
   "source": [
    "bootstrap_servers=[\"kafka:9092\"]"
   ]
  },
  {
   "cell_type": "code",
   "execution_count": 4,
   "metadata": {},
   "outputs": [],
   "source": [
    "producer = KafkaProducer(\n",
    "        # Kafka集群在那裡?\n",
    "        bootstrap_servers=[\"kafka:9092\"],\n",
    "        # 指定msgKey的序列化器, 若Key為None, 無法序列化, 透過producer直接給值\n",
    "        key_serializer=str.encode,\n",
    "        # 指定msgValue的序列化器\n",
    "        value_serializer=str.encode\n",
    "    )\n"
   ]
  },
  {
   "cell_type": "code",
   "execution_count": 7,
   "metadata": {},
   "outputs": [
    {
     "data": {
      "text/plain": [
       "list"
      ]
     },
     "execution_count": 7,
     "metadata": {},
     "output_type": "execute_result"
    }
   ],
   "source": [
    "with open('./kafka_producer.conf', 'r', encoding='utf-8') as f:\n",
    "    kafkaconf = json.loads(f.read())\n",
    "type(kafkaconf['bootstrap_servers'])"
   ]
  },
  {
   "cell_type": "code",
   "execution_count": 12,
   "metadata": {},
   "outputs": [
    {
     "name": "stdout",
     "output_type": "stream",
     "text": [
      "test1\n",
      "producer.send(topic=topic_name, key=key, value=value)\n",
      "producer.send(topic=topic_name, key=key, value=value)\n"
     ]
    }
   ],
   "source": [
    "\n",
    "'''\n",
    "key: process_id\n",
    "value: etl_status|log_record_dt|etlStatusMessage\n",
    "       WARNING|2020-04-20 21:19:53|Hello world\n",
    "'''\n",
    "process_id = 'Gossiping138290132'\n",
    "etl_status = 'TEST'\n",
    "etl_status_message = 'TESTTEST'\n",
    "\n",
    "# Load the configuration of Kafka\n",
    "with open('./kafka_producer.conf', 'r', encoding='utf-8') as f:\n",
    "    kafkaconf = json.loads(f.read())\n",
    "\n",
    "# New a Kafka producer instance, then set up the configuration for Kafka connection\n",
    "producer = KafkaProducer(\n",
    "    # Kafka cluster\n",
    "#     bootstrap_servers=kafkaconf['bootstrap_servers'],\n",
    "    bootstrap_servers=['kafka:29092'],\n",
    "    key_serializer=str.encode,\n",
    "    value_serializer=str.encode\n",
    ")\n",
    "\n",
    "log_record_dt = datetime.datetime.now().strftime(\"%Y-%m-%d %H:%M:%S\")\n",
    "\n",
    "# Topic name\n",
    "topic_name = kafkaconf['topic']\n",
    "key = process_id\n",
    "value = f'{etl_status}|{log_record_dt}|{etl_status_message}'\n",
    "\n",
    "print('test1')\n",
    "producer.send(topic=topic_name, key=key, value=value)\n",
    "\n",
    "# Produce log to Kafka\n",
    "try:\n",
    "    print('producer.send(topic=topic_name, key=key, value=value)')\n",
    "    producer.send(topic=topic_name, key=key, value=value)\n",
    "    print('producer.send(topic=topic_name, key=key, value=value)')\n",
    "except:\n",
    "    print('PASS producer.send(topic=topic_name, key=key, value=value)')\n",
    "    pass\n",
    "finally:\n",
    "    producer.close()\n",
    "\n",
    "\n"
   ]
  },
  {
   "cell_type": "code",
   "execution_count": null,
   "metadata": {},
   "outputs": [],
   "source": []
  }
 ],
 "metadata": {
  "kernelspec": {
   "display_name": "Python 3",
   "language": "python",
   "name": "python3"
  },
  "language_info": {
   "codemirror_mode": {
    "name": "ipython",
    "version": 3
   },
   "file_extension": ".py",
   "mimetype": "text/x-python",
   "name": "python",
   "nbconvert_exporter": "python",
   "pygments_lexer": "ipython3",
   "version": "3.7.6"
  }
 },
 "nbformat": 4,
 "nbformat_minor": 4
}
